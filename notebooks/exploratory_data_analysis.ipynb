{
 "cells": [
  {
   "cell_type": "code",
   "execution_count": 1,
   "id": "33ce63bc",
   "metadata": {},
   "outputs": [],
   "source": [
    "import pandas as pd\n",
    "import matplotlib.pyplot as plt\n",
    "import seaborn as sns "
   ]
  },
  {
   "cell_type": "code",
   "execution_count": 2,
   "id": "2a70115a",
   "metadata": {},
   "outputs": [
    {
     "name": "stdout",
     "output_type": "stream",
     "text": [
      "  session_id  network_packet_size protocol_type  login_attempts  \\\n",
      "0  SID_00001                  599           TCP               4   \n",
      "1  SID_00002                  472           TCP               3   \n",
      "2  SID_00003                  629           TCP               3   \n",
      "3  SID_00004                  804           UDP               4   \n",
      "4  SID_00005                  453           TCP               5   \n",
      "\n",
      "   session_duration encryption_used  ip_reputation_score  failed_logins  \\\n",
      "0        492.983263             DES             0.606818              1   \n",
      "1       1557.996461             DES             0.301569              0   \n",
      "2         75.044262             DES             0.739164              2   \n",
      "3        601.248835             DES             0.123267              0   \n",
      "4        532.540888             AES             0.054874              1   \n",
      "\n",
      "  browser_type  unusual_time_access  attack_detected  \n",
      "0         Edge                    0                1  \n",
      "1      Firefox                    0                0  \n",
      "2       Chrome                    0                1  \n",
      "3      Unknown                    0                1  \n",
      "4      Firefox                    0                0  \n"
     ]
    }
   ],
   "source": [
    "#load data from csv file \n",
    "data = pd.read_csv('../data/cybersecurity_intrusion_data.csv')\n",
    "print (data.head())"
   ]
  },
  {
   "cell_type": "code",
   "execution_count": 4,
   "id": "998d41f0",
   "metadata": {},
   "outputs": [
    {
     "data": {
      "image/png": "[encoded data removed]",
      "text/plain": [
       "<Figure size 640x480 with 1 Axes>"
      ]
     },
     "metadata": {},
     "output_type": "display_data"
    }
   ],
   "source": [
    "#bar graph distribution of target labels\n",
    "sns.countplot(data['attack_detected'])\n",
    "plt.title('Distribution of Target Labels')\n",
    "plt.show()"
   ]
  },
  {
   "cell_type": "code",
   "execution_count": 5,
   "id": "3b72d60a",
   "metadata": {},
   "outputs": [
    {
     "name": "stdout",
     "output_type": "stream",
     "text": [
      "  session_id  network_packet_size protocol_type  login_attempts  \\\n",
      "0  SID_00001                  599           TCP               4   \n",
      "1  SID_00002                  472           TCP               3   \n",
      "2  SID_00003                  629           TCP               3   \n",
      "3  SID_00004                  804           UDP               4   \n",
      "4  SID_00005                  453           TCP               5   \n",
      "\n",
      "   session_duration encryption_used  ip_reputation_score  failed_logins  \\\n",
      "0        492.983263             DES             0.606818              1   \n",
      "1       1557.996461             DES             0.301569              0   \n",
      "2         75.044262             DES             0.739164              2   \n",
      "3        601.248835             DES             0.123267              0   \n",
      "4        532.540888             AES             0.054874              1   \n",
      "\n",
      "  browser_type  unusual_time_access  attack_detected  \n",
      "0         Edge                    0                1  \n",
      "1      Firefox                    0                0  \n",
      "2       Chrome                    0                1  \n",
      "3      Unknown                    0                1  \n",
      "4      Firefox                    0                0  \n"
     ]
    }
   ],
   "source": [
    "\n",
    "print(data.head())"
   ]
  },
  {
   "cell_type": "code",
   "execution_count": 7,
   "id": "0006b9ce",
   "metadata": {},
   "outputs": [
    {
     "name": "stdout",
     "output_type": "stream",
     "text": [
      "<class 'pandas.core.frame.DataFrame'>\n",
      "RangeIndex: 9537 entries, 0 to 9536\n",
      "Data columns (total 11 columns):\n",
      " #   Column               Non-Null Count  Dtype  \n",
      "---  ------               --------------  -----  \n",
      " 0   session_id           9537 non-null   object \n",
      " 1   network_packet_size  9537 non-null   int64  \n",
      " 2   protocol_type        9537 non-null   object \n",
      " 3   login_attempts       9537 non-null   int64  \n",
      " 4   session_duration     9537 non-null   float64\n",
      " 5   encryption_used      7571 non-null   object \n",
      " 6   ip_reputation_score  9537 non-null   float64\n",
      " 7   failed_logins        9537 non-null   int64  \n",
      " 8   browser_type         9537 non-null   object \n",
      " 9   unusual_time_access  9537 non-null   int64  \n",
      " 10  attack_detected      9537 non-null   int64  \n",
      "dtypes: float64(2), int64(5), object(4)\n",
      "memory usage: 819.7+ KB\n"
     ]
    }
   ],
   "source": [
    "data.info()"
   ]
  },
  {
   "cell_type": "code",
   "execution_count": 8,
   "id": "081f1b21",
   "metadata": {},
   "outputs": [
    {
     "data": {
      "text/plain": [
       "session_id                0\n",
       "network_packet_size       0\n",
       "protocol_type             0\n",
       "login_attempts            0\n",
       "session_duration          0\n",
       "encryption_used        1966\n",
       "ip_reputation_score       0\n",
       "failed_logins             0\n",
       "browser_type              0\n",
       "unusual_time_access       0\n",
       "attack_detected           0\n",
       "dtype: int64"
      ]
     },
     "execution_count": 8,
     "metadata": {},
     "output_type": "execute_result"
    }
   ],
   "source": [
    "data.isnull().sum()"
   ]
  },
  {
   "cell_type": "code",
   "execution_count": 9,
   "id": "d0217e58",
   "metadata": {},
   "outputs": [
    {
     "data": {
      "text/html": [
       "<div>\n",
       "<style scoped>\n",
       "    .dataframe tbody tr th:only-of-type {\n",
       "        vertical-align: middle;\n",
       "    }\n",
       "\n",
       "    .dataframe tbody tr th {\n",
       "        vertical-align: top;\n",
       "    }\n",
       "\n",
       "    .dataframe thead th {\n",
       "        text-align: right;\n",
       "    }\n",
       "</style>\n",
       "<table border=\"1\" class=\"dataframe\">\n",
       "  <thead>\n",
       "    <tr style=\"text-align: right;\">\n",
       "      <th></th>\n",
       "      <th>network_packet_size</th>\n",
       "      <th>login_attempts</th>\n",
       "      <th>session_duration</th>\n",
       "      <th>ip_reputation_score</th>\n",
       "      <th>failed_logins</th>\n",
       "      <th>unusual_time_access</th>\n",
       "      <th>attack_detected</th>\n",
       "    </tr>\n",
       "  </thead>\n",
       "  <tbody>\n",
       "    <tr>\n",
       "      <th>count</th>\n",
       "      <td>9537.000000</td>\n",
       "      <td>9537.000000</td>\n",
       "      <td>9537.000000</td>\n",
       "      <td>9537.000000</td>\n",
       "      <td>9537.000000</td>\n",
       "      <td>9537.000000</td>\n",
       "      <td>9537.000000</td>\n",
       "    </tr>\n",
       "    <tr>\n",
       "      <th>mean</th>\n",
       "      <td>500.430639</td>\n",
       "      <td>4.032086</td>\n",
       "      <td>792.745312</td>\n",
       "      <td>0.331338</td>\n",
       "      <td>1.517773</td>\n",
       "      <td>0.149942</td>\n",
       "      <td>0.447101</td>\n",
       "    </tr>\n",
       "    <tr>\n",
       "      <th>std</th>\n",
       "      <td>198.379364</td>\n",
       "      <td>1.963012</td>\n",
       "      <td>786.560144</td>\n",
       "      <td>0.177175</td>\n",
       "      <td>1.033988</td>\n",
       "      <td>0.357034</td>\n",
       "      <td>0.497220</td>\n",
       "    </tr>\n",
       "    <tr>\n",
       "      <th>min</th>\n",
       "      <td>64.000000</td>\n",
       "      <td>1.000000</td>\n",
       "      <td>0.500000</td>\n",
       "      <td>0.002497</td>\n",
       "      <td>0.000000</td>\n",
       "      <td>0.000000</td>\n",
       "      <td>0.000000</td>\n",
       "    </tr>\n",
       "    <tr>\n",
       "      <th>25%</th>\n",
       "      <td>365.000000</td>\n",
       "      <td>3.000000</td>\n",
       "      <td>231.953006</td>\n",
       "      <td>0.191946</td>\n",
       "      <td>1.000000</td>\n",
       "      <td>0.000000</td>\n",
       "      <td>0.000000</td>\n",
       "    </tr>\n",
       "    <tr>\n",
       "      <th>50%</th>\n",
       "      <td>499.000000</td>\n",
       "      <td>4.000000</td>\n",
       "      <td>556.277457</td>\n",
       "      <td>0.314778</td>\n",
       "      <td>1.000000</td>\n",
       "      <td>0.000000</td>\n",
       "      <td>0.000000</td>\n",
       "    </tr>\n",
       "    <tr>\n",
       "      <th>75%</th>\n",
       "      <td>635.000000</td>\n",
       "      <td>5.000000</td>\n",
       "      <td>1105.380602</td>\n",
       "      <td>0.453388</td>\n",
       "      <td>2.000000</td>\n",
       "      <td>0.000000</td>\n",
       "      <td>1.000000</td>\n",
       "    </tr>\n",
       "    <tr>\n",
       "      <th>max</th>\n",
       "      <td>1285.000000</td>\n",
       "      <td>13.000000</td>\n",
       "      <td>7190.392213</td>\n",
       "      <td>0.924299</td>\n",
       "      <td>5.000000</td>\n",
       "      <td>1.000000</td>\n",
       "      <td>1.000000</td>\n",
       "    </tr>\n",
       "  </tbody>\n",
       "</table>\n",
       "</div>"
      ],
      "text/plain": [
       "       network_packet_size  login_attempts  session_duration  \\\n",
       "count          9537.000000     9537.000000       9537.000000   \n",
       "mean            500.430639        4.032086        792.745312   \n",
       "std             198.379364        1.963012        786.560144   \n",
       "min              64.000000        1.000000          0.500000   \n",
       "25%             365.000000        3.000000        231.953006   \n",
       "50%             499.000000        4.000000        556.277457   \n",
       "75%             635.000000        5.000000       1105.380602   \n",
       "max            1285.000000       13.000000       7190.392213   \n",
       "\n",
       "       ip_reputation_score  failed_logins  unusual_time_access  \\\n",
       "count          9537.000000    9537.000000          9537.000000   \n",
       "mean              0.331338       1.517773             0.149942   \n",
       "std               0.177175       1.033988             0.357034   \n",
       "min               0.002497       0.000000             0.000000   \n",
       "25%               0.191946       1.000000             0.000000   \n",
       "50%               0.314778       1.000000             0.000000   \n",
       "75%               0.453388       2.000000             0.000000   \n",
       "max               0.924299       5.000000             1.000000   \n",
       "\n",
       "       attack_detected  \n",
       "count      9537.000000  \n",
       "mean          0.447101  \n",
       "std           0.497220  \n",
       "min           0.000000  \n",
       "25%           0.000000  \n",
       "50%           0.000000  \n",
       "75%           1.000000  \n",
       "max           1.000000  "
      ]
     },
     "execution_count": 9,
     "metadata": {},
     "output_type": "execute_result"
    }
   ],
   "source": [
    "data.describe()"
   ]
  },
  {
   "cell_type": "code",
   "execution_count": 18,
   "id": "de13219f",
   "metadata": {},
   "outputs": [
    {
     "data": {
      "image/png": "[encoded data removed]",
      "text/plain": [
       "<Figure size 640x480 with 1 Axes>"
      ]
     },
     "metadata": {},
     "output_type": "display_data"
    },
    {
     "name": "stdout",
     "output_type": "stream",
     "text": [
      "attack_detected\n",
      "0    5273\n",
      "1    4264\n",
      "Name: count, dtype: int64\n"
     ]
    }
   ],
   "source": [
    "import matplotlib.pyplot as plt\n",
    "import seaborn as sns\n",
    "import sys\n",
    "import os\n",
    "sys.path.append(os.path.abspath('../src'))\n",
    "\n",
    "from data_preprocessing import load_and_preprocess\n",
    "\n",
    "file_path = r'C:\\Users\\ABHI\\OneDrive\\Desktop\\PYTHON PROJECTS\\IDS USING ML\\data\\cybersecurity_intrusion_data.csv'\n",
    "X, y, _, _, _ = load_and_preprocess(file_path)\n",
    "\n",
    "\n",
    "# Assuming y is your target pandas Series\n",
    "sns.countplot(x=y)\n",
    "plt.title('Distribution of attack_detected')\n",
    "plt.xlabel('attack_detected (0 = No Attack, 1 = Attack)')\n",
    "plt.ylabel('Count')\n",
    "plt.show()\n",
    "\n",
    "# Also print count values\n",
    "print(y.value_counts())\n"
   ]
  },
  {
   "cell_type": "code",
   "execution_count": null,
   "id": "572bd805",
   "metadata": {},
   "outputs": [],
   "source": []
  }
 ],
 "metadata": {
  "kernelspec": {
   "display_name": "ids",
   "language": "python",
   "name": "python3"
  },
  "language_info": {
   "codemirror_mode": {
    "name": "ipython",
    "version": 3
   },
   "file_extension": ".py",
   "mimetype": "text/x-python",
   "name": "python",
   "nbconvert_exporter": "python",
   "pygments_lexer": "ipython3",
   "version": "3.12.0"
  }
 },
 "nbformat": 4,
 "nbformat_minor": 5
}
